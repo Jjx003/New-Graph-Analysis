{
 "cells": [
  {
   "cell_type": "code",
   "execution_count": 1,
   "metadata": {},
   "outputs": [],
   "source": [
    "# Constants used in the program:\n",
    "\n",
    "# NODAL_SIZE_DATA_FOLDER is where all the data from size-analysis is saved. This refers to the nodal analysis.\n",
    "NODAL_SIZE_DATA_FOLDER = \"../summer_size_analysis_10092020/\"\n",
    "\n",
    "# BRANCH_DATA_FOLDER is where all the data from branch-analysis is saved.\n",
    "BRANCH_DATA_FOLDER = \"../size-analysis-final-3/\"\n",
    "\n",
    "# CDF_FILE_OUTPUT is where the CDF graph will be outputted to\n",
    "CDF_FILE_OUTPUT = 'CDF_final_10182020.pdf'"
   ]
  },
  {
   "cell_type": "code",
   "execution_count": 2,
   "metadata": {},
   "outputs": [],
   "source": [
    "import json \n",
    "import os"
   ]
  },
  {
   "cell_type": "code",
   "execution_count": 3,
   "metadata": {},
   "outputs": [],
   "source": [
    "import matplotlib.pyplot as plt\n",
    "plt.rcParams['font.family'] = 'sans-serif'\n",
    "plt.rcParams['pdf.fonttype'] = 42\n",
    "plt.rcParams['ps.fonttype'] = 42"
   ]
  },
  {
   "cell_type": "code",
   "execution_count": 4,
   "metadata": {},
   "outputs": [],
   "source": [
    "# dictionary to keep track of the node size analysis data\n",
    "old_all_websites = {}\n",
    "\n",
    "# gets data from node size analysis\n",
    "for root, dirs, files in os.walk(NODAL_SIZE_DATA_FOLDER, topdown=False):\n",
    "    for name in files:\n",
    "\n",
    "        # obtains all the websites' info for calculating ratios\n",
    "        if 'resource_ratio' in name:\n",
    "            filePath = os.path.join(root, name)\n",
    "            f = open(filePath, 'r')\n",
    "            resource_ratio = json.loads(f.read())\n",
    "            for x in resource_ratio:\n",
    "                old_all_websites[x] = {}\n",
    "                old_all_websites[x][\"total_blocked_size\"] = resource_ratio[x]['total_blocked_bytes']\n",
    "                old_all_websites[x][\"total_size\"] = resource_ratio[x]['total_bytes']\n",
    "                old_all_websites[x][\"ratio\"] = resource_ratio[x]['ratio']"
   ]
  },
  {
   "cell_type": "code",
   "execution_count": 5,
   "metadata": {
    "scrolled": true
   },
   "outputs": [],
   "source": [
    "# From branch-analysis.py's output:\n",
    "# tracker, ad, unknown, total blocked, total_unblocked_with_blocked_ancestor , remaining blocked (not visited), unblocked\n",
    "final_all_websites = {}\n",
    "for root, dirs, files in os.walk(BRANCH_DATA_FOLDER, topdown=False):\n",
    "    for name in files:\n",
    "        # goes through the data generated from the branch-analysis script\n",
    "        if('size_analysis' in name):\n",
    "            filePath = os.path.join(root, name)\n",
    "            with open(filePath, 'r') as f:\n",
    "                lines = f.read().splitlines()\n",
    "                \n",
    "                # For each website:\n",
    "                for line in lines:\n",
    "                    fields = line.split(',')\n",
    "                    url = fields[0] # URL of the website\n",
    "                    tracker_bytes = int(fields[1]) # number of bytes attributed to blocked tracker branches\n",
    "                    ad_bytes = int(fields[2]) # number of bytes attributed to blocked ad branches\n",
    "                    unknown_bytes = int(fields[3]) # number of bytes attributed to unknown blocked branches\n",
    "                    total_blocked_bytes = int(fields[4])   # tracker + ad + unknown = total bytes from blocked branches\n",
    "                    total_unblocked_with_blocked_ancestor = int(fields[5]) # unblocked resources but with blocked ancestors\n",
    "                    remaining_blocked_not_visited = int(fields[6]) # any blocked that are not visited (maybe no initiator)\n",
    "\n",
    "                    # total blocked bytes = total_blocked_bytes + remaining_blocked_not_visited\n",
    "                    final_all_websites[url] = {}\n",
    "                    final_all_websites[url][\"total_blocked_size\"] = int(total_blocked_bytes) + int(remaining_blocked_not_visited)\n",
    "                    final_all_websites[url][\"total_size\"] = old_all_websites[url][\"total_size\"]\n",
    "                    \n",
    "                    # calculate the ratio of blocked sizes\n",
    "                    # We use the old node analysis data because it gives us the max size of resources in a website.\n",
    "                    try:\n",
    "                        final_all_websites[url][\"ratio\"] = float(final_all_websites[url][\"total_blocked_size\"]) / old_all_websites[url][\"total_size\"]\n",
    "                        if(final_all_websites[url][\"ratio\"] < 0):\n",
    "                            final_all_websites[url][\"ratio\"] = 0\n",
    "                    except ValueError as err:\n",
    "                        print(err)\n",
    "                    except ZeroDivisionError as err:\n",
    "                        final_all_websites[url][\"ratio\"] = 0\n"
   ]
  },
  {
   "cell_type": "code",
   "execution_count": 6,
   "metadata": {},
   "outputs": [],
   "source": [
    "# Calculate the STD+MED+MEAN of total sizes and total blocked sizes by putting all the data in lists:\n",
    "final_list_all_total_blocked_size = []\n",
    "final_list_all_total_size = []\n",
    "final_list_all_ratios = []\n",
    "final_dictionary_all_total_blocked_size = {}\n",
    "final_dictionary_all_total_size = {}\n",
    "final_dictionary_all_ratios = {}\n",
    "\n",
    "for website in final_all_websites:\n",
    "    final_list_all_total_blocked_size.append(final_all_websites[website][\"total_blocked_size\"])\n",
    "    final_list_all_total_size.append(final_all_websites[website][\"total_size\"])\n",
    "    final_list_all_ratios.append(final_all_websites[website][\"ratio\"])\n",
    "    final_dictionary_all_total_blocked_size[website] = final_all_websites[website][\"total_blocked_size\"]\n",
    "    final_dictionary_all_total_size[website] = final_all_websites[website][\"total_size\"]\n",
    "    final_dictionary_all_ratios[website] = final_all_websites[website][\"ratio\"]"
   ]
  },
  {
   "cell_type": "code",
   "execution_count": 7,
   "metadata": {},
   "outputs": [
    {
     "name": "stdout",
     "output_type": "stream",
     "text": [
      "---------------------------------------------------------\n",
      "-----------------Blocked---------------------------------\n",
      "Population STDEV:  0.5409892593991635 MB\n",
      "Standard STDEV:  0.5409896577511314 MB\n",
      "MEAN:  0.16031575042229046 MB\n",
      "MEDIAN:  0.055109 MB\n",
      "---------------------------------------------------------\n",
      "---------------Total Sizes--------------------------------\n",
      "Population STDEV:  8.690695732047143 MB\n",
      "Standard STDEV:  8.690702131353019 MB\n",
      "MEAN:  3.5472382975590357 MB\n",
      "MEDIAN:  1.651595 MB\n",
      "---------------------------------------------------------\n",
      "---------------------------------------------------------\n"
     ]
    }
   ],
   "source": [
    "import statistics as stats\n",
    "# STDEV MEAN MEDIAN\n",
    "print(\"---------------------------------------------------------\")\n",
    "print(\"-----------------Blocked---------------------------------\")\n",
    "print(\"Population STDEV: \", stats.pstdev(final_list_all_total_blocked_size) / 1000000, \"MB\")\n",
    "print(\"Standard STDEV: \", stats.stdev(final_list_all_total_blocked_size) / 1000000, \"MB\")\n",
    "print(\"MEAN: \", stats.mean(final_list_all_total_blocked_size) / 1000000, \"MB\")\n",
    "print(\"MEDIAN: \", stats.median(final_list_all_total_blocked_size) / 1000000, \"MB\")\n",
    "\n",
    "\n",
    "print(\"---------------------------------------------------------\")\n",
    "print(\"---------------Total Sizes--------------------------------\")\n",
    "\n",
    "\n",
    "\n",
    "print(\"Population STDEV: \", stats.pstdev(final_list_all_total_size) / 1000000, \"MB\")\n",
    "print(\"Standard STDEV: \", stats.stdev(final_list_all_total_size) / 1000000, \"MB\")\n",
    "print(\"MEAN: \", stats.mean(final_list_all_total_size) / 1000000, \"MB\")\n",
    "print(\"MEDIAN: \", stats.median(final_list_all_total_size) / 1000000, \"MB\")\n",
    "\n",
    "\n",
    "\n",
    "print(\"---------------------------------------------------------\")\n",
    "print(\"---------------------------------------------------------\")"
   ]
  },
  {
   "cell_type": "code",
   "execution_count": 8,
   "metadata": {},
   "outputs": [
    {
     "name": "stdout",
     "output_type": "stream",
     "text": [
      "High Size: \t 13035\n",
      "Mid Size: \t 501084\n",
      "Low Size: \t 164916\n",
      "High Ratio: \t 10737\n",
      "Mid Ratio: \t 66503\n",
      "Low Ratio: \t 601795\n"
     ]
    }
   ],
   "source": [
    "# buckets for ratios and sizes\n",
    "\n",
    "high_size_websites = []\n",
    "mid_size_websites = []\n",
    "low_size_websites = []\n",
    "high_ratio_websites = []\n",
    "mid_ratio_websites = []\n",
    "low_ratio_websites = []\n",
    "\n",
    "# Goes through each website and categorizes them based on their degree of blocked ratio/blocked sizes\n",
    "for website in final_all_websites:\n",
    "    if final_all_websites[website][\"total_blocked_size\"] > 1000000:\n",
    "        high_size_websites.append(website)\n",
    "    elif final_all_websites[website][\"total_blocked_size\"] <= 1000000 and final_all_websites[website][\"total_blocked_size\"] >= 1000:\n",
    "        mid_size_websites.append(website)\n",
    "    else:\n",
    "        low_size_websites.append(website)\n",
    "    if final_all_websites[website][\"ratio\"] > 0.8:\n",
    "        high_ratio_websites.append(website)\n",
    "    elif final_all_websites[website][\"ratio\"] >= 0.3 and final_all_websites[website][\"ratio\"] <= 0.8 :\n",
    "        mid_ratio_websites.append(website)\n",
    "    else:\n",
    "        low_ratio_websites.append(website)\n",
    "        \n",
    "print(\"High Size: \\t\", len(high_size_websites))\n",
    "print(\"Mid Size: \\t\", len(mid_size_websites))\n",
    "print(\"Low Size: \\t\", len(low_size_websites))\n",
    "print(\"High Ratio: \\t\", len(high_ratio_websites))\n",
    "print(\"Mid Ratio: \\t\", len(mid_ratio_websites))\n",
    "print(\"Low Ratio: \\t\", len(low_ratio_websites))"
   ]
  },
  {
   "cell_type": "code",
   "execution_count": 9,
   "metadata": {},
   "outputs": [
    {
     "data": {
      "image/png": "[encoded data removed]",
      "text/plain": [
       "<Figure size 432x288 with 1 Axes>"
      ]
     },
     "metadata": {
      "needs_background": "light"
     },
     "output_type": "display_data"
    }
   ],
   "source": [
    "# from matplotlib import rcParams\n",
    "fig, ax = plt.subplots()\n",
    "\n",
    "# Makes the font sanserif and sets the size to 42\n",
    "plt.rcParams['font.family'] = 'sans-serif'\n",
    "plt.rcParams['pdf.fonttype'] = 42\n",
    "plt.rcParams['ps.fonttype'] = 42\n",
    "\n",
    "\n",
    "# plot the cumulative histogram using 1 million buckets\n",
    "n, bins, patches = ax.hist(final_list_all_ratios, 1000000, density=True, histtype='step',\n",
    "                           cumulative=True, label='Empirical', linewidth=1.5)\n",
    "\n",
    "# This statement removes the very last data point to remove a vertical line at the end for consistency among graphs\n",
    "patches[0].set_xy(patches[0].get_xy()[:-1])\n",
    "plt.ylabel(\"Fraction of Websites\")\n",
    "plt.xlabel(\"Blocked Data (MB) / Total Data (MB)\")\n",
    "\n",
    "# sets the ticks on the axes\n",
    "plt.yticks([0, 0.1, 0.2, 0.3, 0.4, 0.5, 0.6, 0.7, 0.8, 0.9, 1])\n",
    "plt.xticks([0, 0.1, 0.2, 0.3, 0.4, 0.5, 0.6, 0.7, 0.8, 0.9, 1])\n",
    "\n",
    "# limits the domain and range of graph to [0,1]\n",
    "plt.xlim([0,1.0])\n",
    "plt.ylim([0,1.0])\n",
    "\n",
    "# adds a gray grid for readability\n",
    "ax.set_axisbelow(True)\n",
    "plt.grid(color='#888888', linestyle=':', linewidth=0.1)\n",
    "\n",
    "plt.savefig(CDF_FILE_OUTPUT, format='pdf')\n",
    "plt.show()"
   ]
  },
  {
   "cell_type": "code",
   "execution_count": 10,
   "metadata": {},
   "outputs": [
    {
     "name": "stdout",
     "output_type": "stream",
     "text": [
      "% of Websites with 0 blocked: 0.21954832961482101\n",
      "% of Websites with < 0.01 ratio: 0.36227882215207047\n",
      "% of Websites with < 0.1 ratio: 0.725261584455659\n"
     ]
    }
   ],
   "source": [
    "# shows percent of websites that has at most no blocked ratio, 1% blocked ratio, and 10% blocked ratio\n",
    "print(\"% of Websites with 0 blocked:\", n[0]) # < 0%\n",
    "print(\"% of Websites with < 0.01 ratio:\", n[10000]) # < 1% ratio\n",
    "print(\"% of Websites with < 0.1 ratio:\", n[100000]) # < 10%"
   ]
  },
  {
   "cell_type": "code",
   "execution_count": 11,
   "metadata": {},
   "outputs": [
    {
     "name": "stdout",
     "output_type": "stream",
     "text": [
      "website & size in MB & ratio\n",
      "----------------------------\n",
      "utm.edu.ec & 97.3 & 0.999\n",
      "ilovesupersport.com & 87.0 & 0.978\n",
      "portalsosnowiec.pl & 72.6 & 0.969\n",
      "riverheadlocal.com & 72.1 & 0.933\n",
      "bitsbox.com & 70.8 & 0.988\n",
      "royalenfield.com & 58.6 & 0.958\n",
      "tvigle.ru & 52.1 & 0.814\n",
      "mmaaxx.com & 50.1 & 0.993\n",
      "thetoyinsider.com & 45.1 & 0.467\n",
      "theinsidersnet.com & 42.5 & 0.950\n"
     ]
    }
   ],
   "source": [
    "# Sorts the websites by total blocked size\n",
    "final_sort_websites_size = sorted(final_dictionary_all_total_blocked_size.items(), key=lambda x : x[1], reverse = True)\n",
    "\n",
    "# prints the top 10 blocked sites and their respective size and ratios\n",
    "# print(final_sort_websites_size[:10]) # Total block sizes\n",
    "print(\"website & size in MB & ratio\")\n",
    "print(\"----------------------------\")\n",
    "for x in final_sort_websites_size[:10]:\n",
    "    print(x[0], '&',str(x[1] / 1000000)[0:4], '&', str(final_dictionary_all_ratios[x[0]])[0:5])"
   ]
  },
  {
   "cell_type": "code",
   "execution_count": 12,
   "metadata": {},
   "outputs": [],
   "source": [
    "# sanity check that nodal size analysis contain the same # of websites as the branch size analysis\n",
    "assert(set(old_all_websites.keys()) - set(final_all_websites.keys()) == set())"
   ]
  }
 ],
 "metadata": {
  "kernelspec": {
   "display_name": "Python 3",
   "language": "python",
   "name": "python3"
  },
  "language_info": {
   "codemirror_mode": {
    "name": "ipython",
    "version": 3
   },
   "file_extension": ".py",
   "mimetype": "text/x-python",
   "name": "python",
   "nbconvert_exporter": "python",
   "pygments_lexer": "ipython3",
   "version": "3.7.3"
  }
 },
 "nbformat": 4,
 "nbformat_minor": 2
}
