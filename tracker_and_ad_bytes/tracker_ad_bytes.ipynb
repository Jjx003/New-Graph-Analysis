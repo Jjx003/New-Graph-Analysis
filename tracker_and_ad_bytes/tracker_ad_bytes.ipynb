{
 "cells": [
  {
   "cell_type": "code",
   "execution_count": 1,
   "metadata": {},
   "outputs": [],
   "source": [
    "import os\n",
    "import matplotlib\n",
    "import json\n",
    "import matplotlib as plt\n",
    "import matplotlib.pyplot as plt\n",
    "from matplotlib.pyplot import figure\n",
    "import numpy as np\n",
    "import pandas as pd\n",
    "\n",
    "\n",
    "# Configure font\n",
    "plt.rcParams['font.family'] = 'sans-serif'\n",
    "plt.rcParams['pdf.fonttype'] = 42\n",
    "plt.rcParams['ps.fonttype'] = 42\n",
    "\n",
    "# Method to print otu the mean, median, std, min, max of a dataframe (pandas)\n",
    "def mms(frame, stat=None):\n",
    "    if not stat:\n",
    "        stat=''\n",
    "        mean, med, std, _min, _max = round(frame.mean(), 2), round(frame.median(), 2), round(frame.std(), 2), frame.min(), frame.max()\n",
    "    else:\n",
    "        fs = frame[stat]\n",
    "        mean, med, std, _min, _max = round(fs.mean(), 2), round(fs.median(), 2), round(fs.std(), 2), fs.min(), fs.max()\n",
    "    print(f'[STAT-{stat}] mean:{mean}, median:{med}, std:{std}, min::{_min}, max:{_max}')\n"
   ]
  },
  {
   "cell_type": "markdown",
   "metadata": {},
   "source": [
    "# Parsing Files\n",
    "Change *data_dir* to the corresponding directory of ad and tracker bytes.\n",
    "Example directory hierarchy:\n",
    "* nb_tracker_and_ads\n",
    "  * 13\n",
    "    * 0.json\n",
    "  * 14\n",
    "    * 0.json\n",
    "  * 15\n",
    "    * 0.json\n",
    "    \n",
    " \n",
    "Change this parsing function as needed. The goal here is to append rows of data to the *data* list"
   ]
  },
  {
   "cell_type": "code",
   "execution_count": 2,
   "metadata": {},
   "outputs": [],
   "source": [
    "data = []\n",
    "data_dir = './nb_tracker_and_ads' ## modify accordingly, or parse data however you want.\n",
    "\n",
    "for server in os.listdir(data_dir):\n",
    "    for txt in os.listdir(os.path.join(data_dir,server)):\n",
    "        with open(os.path.join(data_dir,server,txt)) as f:\n",
    "            data.append(json.load(f))"
   ]
  },
  {
   "cell_type": "code",
   "execution_count": 3,
   "metadata": {},
   "outputs": [],
   "source": [
    "## Convert data into a Pandas Dataframe\n",
    "\n",
    "div = 1024 # Number of bytes in megabyte\n",
    "\n",
    "new_data = []\n",
    "for compact in data:\n",
    "    for URL, d in compact.items():\n",
    "        new_data.append([URL, d['a']/div, d['t']/div])\n",
    "        \n",
    "df = pd.DataFrame(new_data, columns=['URL','Ad Bytes', 'Tracker Bytes'])\n"
   ]
  },
  {
   "cell_type": "code",
   "execution_count": 4,
   "metadata": {},
   "outputs": [
    {
     "data": {
      "text/html": [
       "<div>\n",
       "<style scoped>\n",
       "    .dataframe tbody tr th:only-of-type {\n",
       "        vertical-align: middle;\n",
       "    }\n",
       "\n",
       "    .dataframe tbody tr th {\n",
       "        vertical-align: top;\n",
       "    }\n",
       "\n",
       "    .dataframe thead th {\n",
       "        text-align: right;\n",
       "    }\n",
       "</style>\n",
       "<table border=\"1\" class=\"dataframe\">\n",
       "  <thead>\n",
       "    <tr style=\"text-align: right;\">\n",
       "      <th></th>\n",
       "      <th>URL</th>\n",
       "      <th>Ad Bytes</th>\n",
       "      <th>Tracker Bytes</th>\n",
       "    </tr>\n",
       "  </thead>\n",
       "  <tbody>\n",
       "    <tr>\n",
       "      <th>0</th>\n",
       "      <td>excelonline.in</td>\n",
       "      <td>0.000000</td>\n",
       "      <td>0.000000</td>\n",
       "    </tr>\n",
       "    <tr>\n",
       "      <th>1</th>\n",
       "      <td>psfcrane.com</td>\n",
       "      <td>0.000000</td>\n",
       "      <td>0.000000</td>\n",
       "    </tr>\n",
       "    <tr>\n",
       "      <th>2</th>\n",
       "      <td>lapostemobile.fr</td>\n",
       "      <td>0.000000</td>\n",
       "      <td>58.735352</td>\n",
       "    </tr>\n",
       "    <tr>\n",
       "      <th>3</th>\n",
       "      <td>themanechoice.com</td>\n",
       "      <td>0.123047</td>\n",
       "      <td>106.824219</td>\n",
       "    </tr>\n",
       "    <tr>\n",
       "      <th>4</th>\n",
       "      <td>internetri.net</td>\n",
       "      <td>289.186523</td>\n",
       "      <td>18.211914</td>\n",
       "    </tr>\n",
       "    <tr>\n",
       "      <th>...</th>\n",
       "      <td>...</td>\n",
       "      <td>...</td>\n",
       "      <td>...</td>\n",
       "    </tr>\n",
       "    <tr>\n",
       "      <th>679030</th>\n",
       "      <td>aanhadigital.com</td>\n",
       "      <td>137.246094</td>\n",
       "      <td>53.995117</td>\n",
       "    </tr>\n",
       "    <tr>\n",
       "      <th>679031</th>\n",
       "      <td>digitaltrainingacademy.com</td>\n",
       "      <td>0.000000</td>\n",
       "      <td>33.599609</td>\n",
       "    </tr>\n",
       "    <tr>\n",
       "      <th>679032</th>\n",
       "      <td>mazenod.vic.edu.au</td>\n",
       "      <td>0.000000</td>\n",
       "      <td>46.004883</td>\n",
       "    </tr>\n",
       "    <tr>\n",
       "      <th>679033</th>\n",
       "      <td>interkontakt.net</td>\n",
       "      <td>0.000000</td>\n",
       "      <td>70.820312</td>\n",
       "    </tr>\n",
       "    <tr>\n",
       "      <th>679034</th>\n",
       "      <td>vistarmedia.com</td>\n",
       "      <td>0.082031</td>\n",
       "      <td>136.717773</td>\n",
       "    </tr>\n",
       "  </tbody>\n",
       "</table>\n",
       "<p>679035 rows × 3 columns</p>\n",
       "</div>"
      ],
      "text/plain": [
       "                               URL    Ad Bytes  Tracker Bytes\n",
       "0                   excelonline.in    0.000000       0.000000\n",
       "1                     psfcrane.com    0.000000       0.000000\n",
       "2                 lapostemobile.fr    0.000000      58.735352\n",
       "3                themanechoice.com    0.123047     106.824219\n",
       "4                   internetri.net  289.186523      18.211914\n",
       "...                            ...         ...            ...\n",
       "679030            aanhadigital.com  137.246094      53.995117\n",
       "679031  digitaltrainingacademy.com    0.000000      33.599609\n",
       "679032          mazenod.vic.edu.au    0.000000      46.004883\n",
       "679033            interkontakt.net    0.000000      70.820312\n",
       "679034             vistarmedia.com    0.082031     136.717773\n",
       "\n",
       "[679035 rows x 3 columns]"
      ]
     },
     "execution_count": 4,
     "metadata": {},
     "output_type": "execute_result"
    }
   ],
   "source": [
    "df ## display dataframe"
   ]
  },
  {
   "cell_type": "markdown",
   "metadata": {},
   "source": [
    "# Displaying the Charts\n",
    "Display the std and median charts without any filtering."
   ]
  },
  {
   "cell_type": "code",
   "execution_count": 6,
   "metadata": {},
   "outputs": [
    {
     "data": {
      "text/html": [
       "<div>\n",
       "<style scoped>\n",
       "    .dataframe tbody tr th:only-of-type {\n",
       "        vertical-align: middle;\n",
       "    }\n",
       "\n",
       "    .dataframe tbody tr th {\n",
       "        vertical-align: top;\n",
       "    }\n",
       "\n",
       "    .dataframe thead th {\n",
       "        text-align: right;\n",
       "    }\n",
       "</style>\n",
       "<table border=\"1\" class=\"dataframe\">\n",
       "  <thead>\n",
       "    <tr style=\"text-align: right;\">\n",
       "      <th></th>\n",
       "      <th>Byte Category</th>\n",
       "      <th>Kilobytes</th>\n",
       "      <th>err</th>\n",
       "    </tr>\n",
       "  </thead>\n",
       "  <tbody>\n",
       "    <tr>\n",
       "      <th>0</th>\n",
       "      <td>Ads</td>\n",
       "      <td>0.000000</td>\n",
       "      <td>262.076657</td>\n",
       "    </tr>\n",
       "    <tr>\n",
       "      <th>1</th>\n",
       "      <td>Trackers</td>\n",
       "      <td>28.742188</td>\n",
       "      <td>96.362566</td>\n",
       "    </tr>\n",
       "  </tbody>\n",
       "</table>\n",
       "</div>"
      ],
      "text/plain": [
       "  Byte Category  Kilobytes         err\n",
       "0           Ads   0.000000  262.076657\n",
       "1      Trackers  28.742188   96.362566"
      ]
     },
     "execution_count": 6,
     "metadata": {},
     "output_type": "execute_result"
    }
   ],
   "source": [
    "## Calculate the different medians for ads and tracker bytes\n",
    "\n",
    "# Medians\n",
    "ad_median = df['Ad Bytes'].median()\n",
    "tracker_median = df['Tracker Bytes'].median()\n",
    "\n",
    "# Standard deviations\n",
    "std = df.std(axis=0)\n",
    "astd=std['Ad Bytes']\n",
    "tstd=std['Tracker Bytes']\n",
    "\n",
    "# Update the dataframe to just include standard deviation and medians\n",
    "new_data=pd.DataFrame([['Ads',ad_median, astd], \n",
    "                       ['Trackers',tracker_median, tstd],\n",
    "                      ],\n",
    "                      columns=['Byte Category', 'Kilobytes', 'err'])\n",
    "new_data"
   ]
  },
  {
   "cell_type": "code",
   "execution_count": 8,
   "metadata": {},
   "outputs": [
    {
     "name": "stdout",
     "output_type": "stream",
     "text": [
      "[STAT-Ad Bytes] mean:47.32, median:0.0, std:262.08, min::-0.017578125, max:43826.0009765625\n",
      "[STAT-Tracker Bytes] mean:53.67, median:28.74, std:96.36, min::-0.0751953125, max:16477.8173828125\n"
     ]
    },
    {
     "data": {
      "text/plain": [
       "<Figure size 432x288 with 0 Axes>"
      ]
     },
     "metadata": {},
     "output_type": "display_data"
    },
    {
     "data": {
      "image/png": "[encoded data removed]",
      "text/plain": [
       "<Figure size 432x288 with 1 Axes>"
      ]
     },
     "metadata": {
      "needs_background": "light"
     },
     "output_type": "display_data"
    }
   ],
   "source": [
    "\n",
    "fig = plt.figure()\n",
    "rax = new_data.plot.bar(x='Byte Category', y='Kilobytes', yerr='err', rot=15, capsize=4, color='lightblue', grid=True, ylim=[0,400000.4/div])\n",
    "rax.set_ylabel('Kilobytes')\n",
    "rax.set_xlabel('')\n",
    "#rax.legend(loc='upper left')\n",
    "rax.get_legend().remove()\n",
    "plt.savefig('unfiltered.pdf', bbox_inches='tight', dpi=fig.dpi)\n",
    "mms(df, 'Ad Bytes')\n",
    "mms(df, 'Tracker Bytes')"
   ]
  },
  {
   "cell_type": "markdown",
   "metadata": {},
   "source": [
    "# Filter Plot\n",
    "* We can't see the median of the ads... So let's filter for when the ad_bytes > 0\n",
    "* Let's also do the same for the trackers for rows where tracker_bytes > 0"
   ]
  },
  {
   "cell_type": "code",
   "execution_count": 10,
   "metadata": {},
   "outputs": [
    {
     "name": "stdout",
     "output_type": "stream",
     "text": [
      "Ads:------\n",
      "[STAT-] mean:149.86, median:76.49, std:449.62, min::0.0009765625, max:43826.0009765625\n",
      "Trackers:------\n",
      "[STAT-] mean:73.41, median:53.77, std:106.08, min::0.0009765625, max:16477.8173828125\n"
     ]
    },
    {
     "data": {
      "text/plain": [
       "<Figure size 432x288 with 0 Axes>"
      ]
     },
     "metadata": {},
     "output_type": "display_data"
    },
    {
     "data": {
      "image/png": "[encoded data removed]",
      "text/plain": [
       "<Figure size 432x288 with 1 Axes>"
      ]
     },
     "metadata": {
      "needs_background": "light"
     },
     "output_type": "display_data"
    }
   ],
   "source": [
    "fig = plt.figure()\n",
    "\n",
    "metric = df['Ad Bytes'] # Extract that column\n",
    "ads_one = metric[metric > 0] # Get all that have greater than 0 bytes\n",
    "\n",
    "metric = df['Tracker Bytes']\n",
    "trackers_one = metric[metric > 0] # do same for tracker\n",
    "\n",
    "# Calculate Medians\n",
    "total_ad_bytes=ads_one.median()\n",
    "total_tracker_bytes=trackers_one.median()\n",
    "\n",
    "# Calculate STD\n",
    "astd= ads_one.std()\n",
    "tstd= trackers_one.std()\n",
    "\n",
    "## Print out the stats for each.\n",
    "print(\"Ads:------\")\n",
    "mms(ads_one)\n",
    "print(\"Trackers:------\")\n",
    "mms(trackers_one)\n",
    "\n",
    "# Create new dataframe for plotting\n",
    "new_data_2=pd.DataFrame([['> 0 Ads: Ads',total_ad_bytes, astd], \n",
    "                       ['> 0 Trackers: Trackers',total_tracker_bytes, tstd],\n",
    "                      ],\n",
    "                      columns=['Byte Category', 'Kilobytes', 'err'])\n",
    "\n",
    "# Plot\n",
    "rax = new_data_2.plot.bar(x='Byte Category', y='Kilobytes', yerr='err', rot=15, capsize=4, color='lightblue', grid=True, ylim=[0,600000.4/div])\n",
    "rax.set_ylabel('Kilobytes')\n",
    "rax.set_xlabel('')\n",
    "rax.get_legend().remove()\n",
    "\n",
    "# Uncomment below to save to file\n",
    "#plt.savefig('filtered.pdf', bbox_inches='tight', dpi=fig.dpi)"
   ]
  },
  {
   "cell_type": "code",
   "execution_count": null,
   "metadata": {},
   "outputs": [],
   "source": [
    "##"
   ]
  }
 ],
 "metadata": {
  "kernelspec": {
   "display_name": "Python 3",
   "language": "python",
   "name": "python3"
  },
  "language_info": {
   "codemirror_mode": {
    "name": "ipython",
    "version": 3
   },
   "file_extension": ".py",
   "mimetype": "text/x-python",
   "name": "python",
   "nbconvert_exporter": "python",
   "pygments_lexer": "ipython3",
   "version": "3.8.1"
  }
 },
 "nbformat": 4,
 "nbformat_minor": 4
}
