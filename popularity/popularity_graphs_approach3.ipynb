{
 "cells": [
  {
   "cell_type": "markdown",
   "metadata": {},
   "source": [
    "# Approach 3\n",
    "From approach 2) we get the top 10 trackers, then track their counts throughout the popularity (x axis = popularity, y axis = count for top# tracker, 10 graphs total)\n",
    "\n",
    "analytics.js\n",
    "\n",
    "conversion_async.js\n",
    "\n",
    "advert.gif\n",
    "\n",
    "tag.js\n",
    "\n",
    "ga.js\n",
    "\n",
    "watch.js\n",
    "\n",
    "shopify-boomerang-1.0.0.min.js\n",
    "\n",
    "insight.min.js\n",
    "\n",
    "bat.js\n",
    "\n",
    "e-202040.js\n",
    "\n",
    "---------- \n",
    "In approach 3, we will take a look at how prelavent google, yandex, and other companies compare in the popularity graph. In this, we will be using the top 10 tracker files. \n",
    "## The beginning code is Approach 2's code, Approach 3 begins near the end."
   ]
  },
  {
   "cell_type": "code",
   "execution_count": 24,
   "metadata": {},
   "outputs": [],
   "source": [
    "# Constants used in the program:\n",
    "# URL_DATA_FOLDER is where all the data  is saved.\n",
    "URL_DATA_FOLDER = \"../../popularity_01182021/\"\n",
    "\n",
    "# ALEXA TOP 1M file\n",
    "ALEXA_TOP_1M_FILEPATH = \"../../popularity_01182021/alexa-top1m-2020-09-03_0900_UTC.csv\"\n",
    "\n",
    "# COMPANY_FILE_OUTPUT is where the COMPANY bar graph will be outputted to\n",
    "COMPANY_FILE_OUTPUT = './company_popular_tracker_count.pdf'"
   ]
  },
  {
   "cell_type": "code",
   "execution_count": null,
   "metadata": {},
   "outputs": [],
   "source": []
  },
  {
   "cell_type": "code",
   "execution_count": 12,
   "metadata": {},
   "outputs": [],
   "source": [
    "top_10_trackers = [\"analytics.js\", \"conversion_async.js\", \"advert.gif\", \"tag.js\", \n",
    "                   \"ga.js\", \"watch.js\", \"shopify-boomerang-1.0.0.min.js\", \"insight.min.js\", \n",
    "                   \"bat.js\", \"e-202040.js\"]\n"
   ]
  },
  {
   "cell_type": "code",
   "execution_count": 13,
   "metadata": {},
   "outputs": [],
   "source": [
    "import json \n",
    "import os"
   ]
  },
  {
   "cell_type": "code",
   "execution_count": 14,
   "metadata": {},
   "outputs": [],
   "source": [
    "import matplotlib.pyplot as plt\n",
    "plt.rcParams['font.family'] = 'sans-serif'\n",
    "plt.rcParams['pdf.fonttype'] = 42\n",
    "plt.rcParams['ps.fonttype'] = 42"
   ]
  },
  {
   "cell_type": "code",
   "execution_count": 15,
   "metadata": {},
   "outputs": [],
   "source": [
    "# Alexa top 1m sorted by popularity\n",
    "popularity_list = []\n",
    "with open(ALEXA_TOP_1M_FILEPATH, 'r') as f:\n",
    "    lines = f.read().splitlines()\n",
    "    for line in lines:\n",
    "        popularity_list.append(line.split(\",\")[1])"
   ]
  },
  {
   "cell_type": "code",
   "execution_count": 16,
   "metadata": {},
   "outputs": [
    {
     "name": "stdout",
     "output_type": "stream",
     "text": [
      "../../popularity_01182021/13\\output\\urls_0.txt\n",
      "../../popularity_01182021/13\\output\\urls_1.txt\n",
      "../../popularity_01182021/13\\output\\urls_2.txt\n",
      "../../popularity_01182021/13\\output\\urls_3.txt\n",
      "../../popularity_01182021/13\\output\\urls_4.txt\n",
      "../../popularity_01182021/13\\output\\urls_5.txt\n",
      "../../popularity_01182021/13\\output\\urls_6.txt\n",
      "../../popularity_01182021/13\\output\\urls_7.txt\n",
      "../../popularity_01182021/14\\output\\urls_0.txt\n",
      "../../popularity_01182021/14\\output\\urls_1.txt\n",
      "../../popularity_01182021/14\\output\\urls_2.txt\n",
      "../../popularity_01182021/14\\output\\urls_3.txt\n",
      "../../popularity_01182021/14\\output\\urls_4.txt\n",
      "../../popularity_01182021/14\\output\\urls_5.txt\n",
      "../../popularity_01182021/14\\output\\urls_6.txt\n",
      "../../popularity_01182021/14\\output\\urls_7.txt\n",
      "../../popularity_01182021/15\\output\\urls_0.txt\n",
      "../../popularity_01182021/15\\output\\urls_1.txt\n",
      "../../popularity_01182021/15\\output\\urls_2.txt\n",
      "../../popularity_01182021/15\\output\\urls_3.txt\n",
      "../../popularity_01182021/15\\output\\urls_4.txt\n",
      "../../popularity_01182021/15\\output\\urls_5.txt\n",
      "../../popularity_01182021/15\\output\\urls_6.txt\n",
      "../../popularity_01182021/15\\output\\urls_7.txt\n"
     ]
    }
   ],
   "source": [
    "# From output:\n",
    "# website_url + \"$$\" + json.dumps(tracker_urls) + \"$$\" + json.dumps(ads_urls) + \"$$\" + json.dumps(other_urls)\n",
    "websites = {}\n",
    "for root, dirs, files in os.walk(URL_DATA_FOLDER, topdown=False):\n",
    "    for name in files:\n",
    "        # goes through the data generated from the branch-analysis script\n",
    "        if('urls' in name):\n",
    "            filePath = os.path.join(root, name)\n",
    "            print(filePath)\n",
    "            with open(filePath, 'r') as f:\n",
    "                lines = f.read().splitlines()\n",
    "                for line in lines:\n",
    "                    fields = line.split(\"$${\")\n",
    "                    url = fields[0]\n",
    "#                     print(url)\n",
    "                    trackers = json.loads(\"{\" + fields[1])\n",
    "                    ads = json.loads(\"{\" + fields[2])\n",
    "                    others = json.loads(\"{\" + fields[3])\n",
    "                    websites[url] = {}\n",
    "                    websites[url][\"trackers\"] = trackers\n",
    "                    websites[url][\"ads\"] = ads\n",
    "                    websites[url][\"others\"] = others\n",
    "                    "
   ]
  },
  {
   "cell_type": "code",
   "execution_count": 25,
   "metadata": {},
   "outputs": [],
   "source": [
    "# Aggregate trackers and ads by truncation\n",
    "popular_trackers = {}\n",
    "popular_ads = {}\n",
    "for website in popularity_list:\n",
    "    if website in websites:\n",
    "        for tracker in websites[website][\"trackers\"]:\n",
    "            old_tracker = tracker\n",
    "            tracker = tracker.split(\"?\")[0]\n",
    "            if tracker not in popular_trackers:\n",
    "                popular_trackers[tracker] = {}\n",
    "                popular_trackers[tracker][\"count\"] = 1\n",
    "                popular_trackers[tracker][\"bytes\"] = websites[website][\"trackers\"][old_tracker][\"total_bytes\"]\n",
    "            else:\n",
    "                popular_trackers[tracker][\"count\"] += 1\n",
    "                popular_trackers[tracker][\"bytes\"] += websites[website][\"trackers\"][old_tracker][\"total_bytes\"]\n",
    "        for ad in websites[website][\"ads\"]:\n",
    "            old_ad = ad\n",
    "            ad = ad.split(\"?\")[0]\n",
    "            if ad not in popular_ads:\n",
    "                popular_ads[ad] = {}\n",
    "                popular_ads[ad][\"count\"] = 1\n",
    "                popular_ads[ad][\"bytes\"] = websites[website][\"ads\"][old_ad][\"total_bytes\"]\n",
    "            else:\n",
    "                popular_ads[ad][\"count\"] += 1\n",
    "                popular_ads[ad][\"bytes\"] += websites[website][\"ads\"][old_ad][\"total_bytes\"]\n"
   ]
  },
  {
   "cell_type": "code",
   "execution_count": 26,
   "metadata": {},
   "outputs": [
    {
     "name": "stdout",
     "output_type": "stream",
     "text": [
      "https://securepubads.g.doubleclick.net/gampad/ads\n",
      "https://tpc.googlesyndication.com/safeframe/1-0-37/html/container.html\n",
      "https://securepubads.g.doubleclick.net/tag/js/gpt.js\n",
      "https://securepubads.g.doubleclick.net/gpt/pubads_impl_2020092201.js\n",
      "https://securepubads.g.doubleclick.net/pcs/view\n",
      "https://pagead2.googlesyndication.com/getconfig/sodar\n",
      "https://tpc.googlesyndication.com/sodar/sodar2.js\n",
      "https://tpc.googlesyndication.com/sodar/sodar2/216/runner.html\n",
      "https://securepubads.g.doubleclick.net/pagead/adview\n",
      "https://tpc.googlesyndication.com/sodar/sodar2/217/runner.html\n",
      "https://pagead2.googlesyndication.com/pagead/js/r20200923/r20190131/show_ads_impl_fy2019.js\n",
      "https://googleads.g.doubleclick.net/pagead/html/r20200923/r20190131/zrt_lookup.html\n",
      "https://googleads.g.doubleclick.net/pagead/ads\n",
      "https://pagead2.googlesyndication.com/pagead/js/adsbygoogle.js\n",
      "https://pagead2.googlesyndication.com/pagead/gen_204\n",
      "https://www.googleadservices.com/pagead/conversion.js\n",
      "https://pagead2.googlesyndication.com/pagead/js/r20200924/r20190131/show_ads_impl_fy2019.js\n",
      "https://googleads.g.doubleclick.net/pagead/html/r20200924/r20190131/zrt_lookup.html\n",
      "====================================================\n",
      "https://www.googletagmanager.com/gtag/js\n",
      "https://www.google-analytics.com/analytics.js\n",
      "https://www.googletagmanager.com/gtm.js\n",
      "https://www.google-analytics.com/gtm/js\n",
      "https://stats.g.doubleclick.net/j/collect\n",
      "https://sb.scorecardresearch.com/beacon.js\n",
      "https://top-fwz1.mail.ru/counter\n",
      "https://top-fwz1.mail.ru/counter2\n",
      "https://ib.adnxs.com/bounce\n",
      "https://ib.adnxs.com/getuid\n",
      "https://snap.licdn.com/li.lms-analytics/insight.min.js\n",
      "https://bat.bing.com/bat.js\n",
      "https://www.googleadservices.com/pagead/conversion_async.js\n",
      "https://snap.licdn.com/li.lms-analytics/insight.beta.min.js\n",
      "https://bat.bing.com/action/0\n",
      "https://www.google-analytics.com/collect\n",
      "https://t.co/i/adsct\n",
      "https://mc.yandex.ru/metrika/watch.js\n",
      "https://mc.yandex.ru/metrika/advert.gif\n",
      "https://mc.yandex.ru/metrika/tag.js\n",
      "https://pixel.wp.com/g.gif\n",
      "https://ct.pinterest.com/v3/\n",
      "https://cm.g.doubleclick.net/pixel\n",
      "https://track.hubspot.com/__ptq.gif\n",
      "https://ssl.google-analytics.com/ga.js\n",
      "https://counter.yadro.ru/hit\n",
      "https://ssl.google-analytics.com/r/__utm.gif\n",
      "https://stats.g.doubleclick.net/r/collect\n",
      "https://syndication.twitter.com/i/jot\n",
      "https://m.addthis.com/live/red_lojson/300lo.json\n",
      "https://stats.wp.com/e-202040.js\n",
      "https://stats.wp.com/e-202039.js\n",
      "https://www.google-analytics.com/ga.js\n",
      "https://www.google-analytics.com/r/__utm.gif\n",
      "https://cdn.shopify.com/shopifycloud/boomerang/shopify-boomerang-1.0.0.min.js\n",
      "https://godog.shopifycloud.com/v1/event.gif\n"
     ]
    }
   ],
   "source": [
    "for ad in popular_ads:\n",
    "    if popular_ads[ad][\"count\"] >= 10000:\n",
    "        print(ad)\n",
    "print(\"====================================================\")\n",
    "for tracker in popular_trackers:\n",
    "    if popular_trackers[tracker][\"count\"] >= 10000:\n",
    "        print(tracker)"
   ]
  },
  {
   "cell_type": "markdown",
   "metadata": {},
   "source": [
    "# Required Code from Approach 2"
   ]
  },
  {
   "cell_type": "code",
   "execution_count": 27,
   "metadata": {},
   "outputs": [],
   "source": [
    "# Approach 2\n",
    "count_trackers_list = [] # [   [count for top 10k with 1st tracker, top 20k...]        [1,5,6030,202,32]  []\n",
    "popular_tracker_pos = 0\n",
    "for popular_tracker in top_10_trackers:\n",
    "    website_count = 0\n",
    "    bucket_count = 0\n",
    "    count_trackers_list.append(list())\n",
    "    for website in popularity_list:\n",
    "        if(website_count == 0):\n",
    "            website_count += 1\n",
    "            continue\n",
    "        if website in websites:\n",
    "            for tracker in websites[website][\"trackers\"]:\n",
    "                if popular_tracker in tracker:\n",
    "                    if bucket_count >= len(count_trackers_list[popular_tracker_pos]):\n",
    "                        count_trackers_list[popular_tracker_pos].append(0)\n",
    "                    count_trackers_list[popular_tracker_pos][bucket_count] += 1\n",
    "            \n",
    "            if website_count % 10000 == 0:\n",
    "                bucket_count += 1\n",
    "            website_count += 1\n",
    "    popular_tracker_pos += 1"
   ]
  },
  {
   "cell_type": "markdown",
   "metadata": {},
   "source": [
    "------------------\n",
    "# Approach 3 Code Starts Here\n",
    "\n",
    "I only look at the top ten tracker files and their impacts on tracker counts over popularity, I do not look at every tracker and try to "
   ]
  },
  {
   "cell_type": "code",
   "execution_count": 28,
   "metadata": {},
   "outputs": [
    {
     "name": "stdout",
     "output_type": "stream",
     "text": [
      "0.24240819300000926\n"
     ]
    }
   ],
   "source": [
    "total_trackers = 0\n",
    "total_popular_trackers = 0\n",
    "\n",
    "for website in popularity_list:\n",
    "    if website in websites:\n",
    "        for tracker in websites[website][\"trackers\"]:\n",
    "            old_tracker = tracker\n",
    "            tracker = tracker.split(\"?\")[0]\n",
    "            total_trackers += 1\n",
    "for popular_tracker in count_trackers_list:\n",
    "    for count in popular_tracker:\n",
    "        total_popular_trackers += count\n",
    "        \n",
    "\n",
    "\n",
    "print(total_popular_trackers / total_trackers)"
   ]
  },
  {
   "cell_type": "code",
   "execution_count": 29,
   "metadata": {},
   "outputs": [],
   "source": [
    "import numpy as np\n",
    "\n",
    "# try bucketing into Google, Yandex, and other\n",
    "google_trackers = np.zeros(len(popular_tracker))\n",
    "yandex_trackers = np.zeros(len(popular_tracker))\n",
    "other_trackers = np.zeros(len(popular_tracker))\n",
    "\n",
    "\n",
    "'''\n",
    "0) analytics.js\n",
    "1) conversion_async.js\n",
    "2) advert.gif\n",
    "3) tag.js\n",
    "4) ga.js\n",
    "5) watch.js\n",
    "6) shopify-boomerang-1.0.0.min.js\n",
    "7) insight.min.js\n",
    "8) bat.js\n",
    "9) e-202040.js\n",
    "'''\n",
    "\n",
    "\n",
    "popular_count = 0\n",
    "for popular_tracker in count_trackers_list:\n",
    "    if(popular_count == 0 or popular_count == 1 or popular_count == 4): #GOOGLE\n",
    "        for count in range(0,len(popular_tracker)):\n",
    "            google_trackers[count] += popular_tracker[count]\n",
    "    elif(popular_count == 2 or popular_count == 3 or popular_count == 5): # YANDEX\n",
    "        for count in range(0,len(popular_tracker)):\n",
    "            yandex_trackers[count] += popular_tracker[count]\n",
    "    else: # OTHER\n",
    "        for count in range(0,len(popular_tracker)):\n",
    "            other_trackers[count] += popular_tracker[count]\n",
    "    popular_count += 1\n",
    "        \n",
    "            \n"
   ]
  },
  {
   "cell_type": "code",
   "execution_count": 30,
   "metadata": {},
   "outputs": [
    {
     "data": {
      "text/plain": [
       "array([1654., 1428., 1559., 1434., 1443., 1360., 1635., 1548., 1580.,\n",
       "       1829., 1631., 1819., 1932., 1797., 2188., 1664., 2041., 1349.,\n",
       "       1744., 1770., 1575., 1352., 2193., 1827., 1127., 1072., 1380.,\n",
       "       1232., 2209., 2371., 2270., 2481., 1728., 1077., 1023., 1250.,\n",
       "       1083.,  657., 1066., 1009., 1068., 1016., 1200.,  655.,  670.,\n",
       "        674.,  984.,  364.,  747., 1040.,  836.,  765.,  290.,  176.,\n",
       "        270.,  450.,  476.,  476.,  253.,  692.,  580.,  441.,  478.,\n",
       "        223.,  326.,  744.,  454.,  671.])"
      ]
     },
     "execution_count": 30,
     "metadata": {},
     "output_type": "execute_result"
    }
   ],
   "source": [
    "google_trackers\n",
    "yandex_trackers\n",
    "other_trackers"
   ]
  },
  {
   "cell_type": "code",
   "execution_count": 33,
   "metadata": {},
   "outputs": [
    {
     "data": {
      "image/png": "[encoded data removed]",
      "text/plain": [
       "<Figure size 432x288 with 1 Axes>"
      ]
     },
     "metadata": {
      "needs_background": "light"
     },
     "output_type": "display_data"
    }
   ],
   "source": [
    "x = list(range(0,len(google_trackers), 1))\n",
    "\n",
    "# fig = plt.figure(figsize=(25, 20))\n",
    "fig, ax = plt.subplots()\n",
    "\n",
    "plt.rcParams['font.family'] = 'sans-serif'\n",
    "plt.rcParams['pdf.fonttype'] = 42\n",
    "plt.rcParams['ps.fonttype'] = 42\n",
    "\n",
    "plt.bar(x,google_trackers, width=0.4, label = 'Google', color ='green', bottom = yandex_trackers + other_trackers)\n",
    "plt.bar(x,yandex_trackers, width=0.4, label = 'Yandex', color ='deeppink', bottom = other_trackers )\n",
    "plt.bar(x,other_trackers, width=0.4, label = 'Other', color ='orange' )\n",
    "\n",
    "\n",
    "# plt.xticks(x, x,  rotation=90)\n",
    "plt.ylabel(\"Count of Top 10 Tracker Files\")\n",
    "plt.xlabel(\"Decreasing Popularity (10k Websites)\")\n",
    "plt.legend(loc=\"upper right\", prop={'size': 8})\n",
    "\n",
    "plt.xlim([-1,70])\n",
    "\n",
    "ax.set_axisbelow(True)\n",
    "plt.grid(color='#888888', linestyle=':', linewidth=0.1)\n",
    "\n",
    "\n",
    "plt.savefig(COMPANY_FILE_OUTPUT, format='pdf')\n",
    "plt.show()"
   ]
  },
  {
   "cell_type": "code",
   "execution_count": null,
   "metadata": {},
   "outputs": [],
   "source": []
  },
  {
   "cell_type": "code",
   "execution_count": null,
   "metadata": {},
   "outputs": [],
   "source": []
  },
  {
   "cell_type": "code",
   "execution_count": null,
   "metadata": {},
   "outputs": [],
   "source": []
  },
  {
   "cell_type": "code",
   "execution_count": null,
   "metadata": {},
   "outputs": [],
   "source": []
  },
  {
   "cell_type": "code",
   "execution_count": null,
   "metadata": {},
   "outputs": [],
   "source": []
  },
  {
   "cell_type": "code",
   "execution_count": null,
   "metadata": {},
   "outputs": [],
   "source": []
  },
  {
   "cell_type": "code",
   "execution_count": null,
   "metadata": {},
   "outputs": [],
   "source": []
  },
  {
   "cell_type": "code",
   "execution_count": null,
   "metadata": {},
   "outputs": [],
   "source": []
  },
  {
   "cell_type": "code",
   "execution_count": null,
   "metadata": {},
   "outputs": [],
   "source": []
  },
  {
   "cell_type": "code",
   "execution_count": null,
   "metadata": {},
   "outputs": [],
   "source": []
  },
  {
   "cell_type": "code",
   "execution_count": null,
   "metadata": {},
   "outputs": [],
   "source": []
  },
  {
   "cell_type": "code",
   "execution_count": null,
   "metadata": {},
   "outputs": [],
   "source": []
  }
 ],
 "metadata": {
  "kernelspec": {
   "display_name": "Python 3",
   "language": "python",
   "name": "python3"
  },
  "language_info": {
   "codemirror_mode": {
    "name": "ipython",
    "version": 3
   },
   "file_extension": ".py",
   "mimetype": "text/x-python",
   "name": "python",
   "nbconvert_exporter": "python",
   "pygments_lexer": "ipython3",
   "version": "3.7.3"
  }
 },
 "nbformat": 4,
 "nbformat_minor": 2
}
